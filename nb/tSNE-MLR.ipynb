{
 "cells": [
  {
   "cell_type": "markdown",
   "metadata": {},
   "source": [
    "The purpose of this calculation is to reproduce the results from [Asuncion et al., Philippine Journal of Science, 2019](https://github.com/pgniewko/conotoxins/tree/master/papers/ML/ASA.PJS.2019.pdf). The data used in this work is downloaded from the [ConoServer](http://www.conoserver.org/?page=download) (access data: 11/18/19). Instead of using [protr](https://cran.r-project.org/web/packages/protr/vignettes/protr.html) package for peptides featurizaion, we use a Python implementation [pydpi](https://pypi.org/project/pydpi/#files). Other tools could be also used e.g. [iFeature](https://github.com/Superzchen/iFeature/) by [Chen et al., Bioinformatics 2018](https://github.com/pgniewko/conotoxins/tree/master/papers/ML/iFeature.2018.pdf)."
   ]
  },
  {
   "cell_type": "code",
   "execution_count": 2,
   "metadata": {},
   "outputs": [],
   "source": [
    "import sys\n",
    "import xml.etree.ElementTree as ET\n",
    "\n",
    "from toxin import Toxin\n",
    "from experiment import Experiment\n",
    "\n"
   ]
  },
  {
   "cell_type": "code",
   "execution_count": 3,
   "metadata": {},
   "outputs": [],
   "source": [
    "db_file = \"../data/conoserver/conoserver_protein.xml\"\n",
    "tree = ET.parse(db_file)\n",
    "root = tree.getroot()\n",
    "\n",
    "toxins = []\n",
    "for entry in root.iter('entry'):\n",
    "    pid = entry.find('id').text if entry.find('id') is not None else None\n",
    "    seq = entry.find('sequence').text if entry.find('sequence') is not None else \"None\"\n",
    "    name = entry.find('name').text if entry.find('name') is not None else \"None\"\n",
    "    toxin_class =  entry.find('class').text if entry.find('class') is not None else \"None\"\n",
    "    organism = entry.find('organismLatin').text if entry.find('organismLatin') is not None else \"None\"\n",
    "    geneSuperfamily = entry.find('geneSuperfamily').text if entry.find('geneSuperfamily') is not None else \"None\"\n",
    "    cysteineFramewrok = entry.find('cysteineFramewrok').text if entry.find('cysteineFramewrok') is not None else \"None\"\n",
    "    pharmacologicalFamily = entry.find('pharmacologicalFamily').text if entry.find('pharmacologicalFamily') is not None else \"None\"\n",
    "    isoelecticPoint = entry.find('isoelecticPoint').text if entry.find('isoelecticPoint') is not None else \"None\"\n",
    "    \n",
    "    toxin = Toxin(pid,\n",
    "                  seq,\n",
    "                  name,\n",
    "                  toxin_class,\n",
    "                  organism,\n",
    "                  geneSuperfamily,\n",
    "                  cysteineFramewrok,\n",
    "                  pharmacologicalFamily, \n",
    "                  isoelecticPoint)\n",
    "    \n",
    "    mods = entry.find('sequenceModifications')\n",
    "    if mods is not None:\n",
    "        for mod in mods.iter('modification'):\n",
    "            toxin.add_modification( mod.attrib )\n",
    "    \n",
    "    toxin._clean_seq()\n",
    "    toxins.append(toxin)"
   ]
  },
  {
   "cell_type": "markdown",
   "metadata": {},
   "source": [
    "Changes made to the sequeunces that couldn't be found in (done manually)\n",
    "\n",
    "1. P06822;X2->W;O6-P;X24->C;\n",
    "2. P07401;X2->E;X3->E;X7->X;X10->\"\";\n",
    "3. P07646;O4>P;O10->P;\n",
    "4. P07647;O4>P;O10->P;"
   ]
  },
  {
   "cell_type": "code",
   "execution_count": 4,
   "metadata": {},
   "outputs": [
    {
     "ename": "NameError",
     "evalue": "name 'data' is not defined",
     "output_type": "error",
     "traceback": [
      "\u001b[0;31m---------------------------------------------------------------------------\u001b[0m",
      "\u001b[0;31mNameError\u001b[0m                                 Traceback (most recent call last)",
      "\u001b[0;32m<ipython-input-4-80bf3260dafc>\u001b[0m in \u001b[0;36m<module>\u001b[0;34m\u001b[0m\n\u001b[1;32m      5\u001b[0m     \u001b[0mexperiment\u001b[0m\u001b[0;34m.\u001b[0m\u001b[0mexperiment_from_file\u001b[0m\u001b[0;34m(\u001b[0m\u001b[0;34m'../data/ASA.PJS.2019.txt'\u001b[0m\u001b[0;34m)\u001b[0m\u001b[0;34m\u001b[0m\u001b[0;34m\u001b[0m\u001b[0m\n\u001b[1;32m      6\u001b[0m \u001b[0;34m\u001b[0m\u001b[0m\n\u001b[0;32m----> 7\u001b[0;31m \u001b[0;32mfor\u001b[0m \u001b[0mk\u001b[0m\u001b[0;34m,\u001b[0m\u001b[0mv\u001b[0m \u001b[0;32min\u001b[0m \u001b[0mdata\u001b[0m\u001b[0;34m.\u001b[0m\u001b[0mitems\u001b[0m\u001b[0;34m(\u001b[0m\u001b[0;34m)\u001b[0m\u001b[0;34m:\u001b[0m\u001b[0;34m\u001b[0m\u001b[0;34m\u001b[0m\u001b[0m\n\u001b[0m\u001b[1;32m      8\u001b[0m     \u001b[0mprint\u001b[0m\u001b[0;34m(\u001b[0m\u001b[0mk\u001b[0m\u001b[0;34m,\u001b[0m \u001b[0mlen\u001b[0m\u001b[0;34m(\u001b[0m\u001b[0mv\u001b[0m\u001b[0;34m)\u001b[0m\u001b[0;34m)\u001b[0m\u001b[0;34m\u001b[0m\u001b[0;34m\u001b[0m\u001b[0m\n",
      "\u001b[0;31mNameError\u001b[0m: name 'data' is not defined"
     ]
    }
   ],
   "source": [
    "experiment = Experiment(toxins, min_val=8)\n",
    "if True:\n",
    "    experiment.prepare_experiment()\n",
    "else:\n",
    "    experiment.experiment_from_file('../data/ASA.PJS.2019.txt')\n",
    "\n",
    "for k,v in data.items():\n",
    "    print(k, len(v))"
   ]
  },
  {
   "cell_type": "code",
   "execution_count": null,
   "metadata": {},
   "outputs": [],
   "source": []
  }
 ],
 "metadata": {
  "kernelspec": {
   "display_name": "Python 3",
   "language": "python",
   "name": "python3"
  },
  "language_info": {
   "codemirror_mode": {
    "name": "ipython",
    "version": 3
   },
   "file_extension": ".py",
   "mimetype": "text/x-python",
   "name": "python",
   "nbconvert_exporter": "python",
   "pygments_lexer": "ipython3",
   "version": "3.7.3"
  }
 },
 "nbformat": 4,
 "nbformat_minor": 2
}
